{
  "nbformat": 4,
  "nbformat_minor": 0,
  "metadata": {
    "colab": {
      "name": "Elliptic_EvolveGCN.ipynb",
      "provenance": [],
      "collapsed_sections": []
    },
    "kernelspec": {
      "name": "python3",
      "display_name": "Python 3"
    },
    "language_info": {
      "name": "python"
    }
  },
  "cells": [
    {
      "cell_type": "code",
      "execution_count": 3,
      "metadata": {
        "id": "9Uadn2n8_FA8"
      },
      "outputs": [],
      "source": [
        "import pandas as pd\n",
        "import os"
      ]
    },
    {
      "cell_type": "code",
      "source": [
        "os.environ['KAGGLE_USERNAME'] = \"XXXXXXXX\" # username from the json file\n",
        "os.environ['KAGGLE_KEY'] = \"XXXXXXXXXXXXXXXXXXXXXXXXXXXXXXX\" # key from the json file\n",
        "!kaggle datasets download -d ellipticco/elliptic-data-set\n",
        "!unzip elliptic-data-set.zip\n",
        "!mkdir elliptic_bitcoin_dataset_cont"
      ],
      "metadata": {
        "colab": {
          "base_uri": "https://localhost:8080/"
        },
        "id": "SqVavW0y_HnM",
        "outputId": "d84ed21d-3e33-4c7b-b2c7-9c7773f8f4da"
      },
      "execution_count": 4,
      "outputs": [
        {
          "output_type": "stream",
          "name": "stdout",
          "text": [
            "Downloading elliptic-data-set.zip to /content\n",
            " 94% 137M/146M [00:03<00:00, 39.6MB/s]\n",
            "100% 146M/146M [00:03<00:00, 46.8MB/s]\n",
            "Archive:  elliptic-data-set.zip\n",
            "  inflating: elliptic_bitcoin_dataset/elliptic_txs_classes.csv  \n",
            "  inflating: elliptic_bitcoin_dataset/elliptic_txs_edgelist.csv  \n",
            "  inflating: elliptic_bitcoin_dataset/elliptic_txs_features.csv  \n"
          ]
        }
      ]
    },
    {
      "cell_type": "code",
      "source": [
        "df_edge = pd.read_csv('elliptic_bitcoin_dataset/elliptic_txs_edgelist.csv')\n",
        "df_class = pd.read_csv('elliptic_bitcoin_dataset/elliptic_txs_classes.csv')\n",
        "df_features = pd.read_csv('elliptic_bitcoin_dataset/elliptic_txs_features.csv',header=None)"
      ],
      "metadata": {
        "id": "GZhlMkBs_MdT"
      },
      "execution_count": 5,
      "outputs": []
    },
    {
      "cell_type": "markdown",
      "source": [
        "Step1"
      ],
      "metadata": {
        "id": "AfRXrzKO_Sn1"
      }
    },
    {
      "cell_type": "code",
      "source": [
        "df_features[\"contiguosId\"] = [i for i in range(len(df_features))]\n",
        "df_original_contigous = df_features[[0,\"contiguosId\"]]\n",
        "df_features1 = df_features.drop(columns=[0])\n",
        "cols = df_features1.columns.to_list()\n",
        "cols = cols[-1:]+ cols[0:-1]\n",
        "df_features1 = df_features1[cols] \n",
        "df_original_contigous = df_original_contigous.rename(columns={0: \"originalId\"})"
      ],
      "metadata": {
        "id": "HwE459Ai_TGo"
      },
      "execution_count": 6,
      "outputs": []
    },
    {
      "cell_type": "code",
      "source": [
        "df_features1[\"contiguosId\"] = pd.to_numeric(df_features1[\"contiguosId\"], downcast=\"float\")\n",
        "df_features1[1] = pd.to_numeric(df_features1[1], downcast=\"float\")"
      ],
      "metadata": {
        "id": "cBZV-1Eb_cwx"
      },
      "execution_count": 7,
      "outputs": []
    },
    {
      "cell_type": "markdown",
      "source": [
        "Step2"
      ],
      "metadata": {
        "id": "TsxBj0Mt_jkV"
      }
    },
    {
      "cell_type": "code",
      "source": [
        "dict_contigous = {df_original_contigous['originalId'][i]:df_original_contigous['contiguosId'][i] for i in range(len(df_original_contigous))}\n",
        "df_class[\"txId\"] = [dict_contigous[df_class.txId[i]] for i in range(len(df_class))]\n",
        "df_class[\"class\"] = [1 if df_class[\"class\"][i] == 1 else -1 if df_class[\"class\"][i] == \"unknown\" else 0 for i in range(len(df_class))]"
      ],
      "metadata": {
        "id": "50_wkgL8_dRQ"
      },
      "execution_count": 8,
      "outputs": []
    },
    {
      "cell_type": "code",
      "source": [
        "df_class['txId'] = pd.to_numeric(df_class['txId'], downcast=\"float\")\n",
        "df_class['class'] = pd.to_numeric(df_class['class'], downcast=\"float\")"
      ],
      "metadata": {
        "id": "pYDjX10R_hUN"
      },
      "execution_count": 9,
      "outputs": []
    },
    {
      "cell_type": "markdown",
      "source": [
        "Step3"
      ],
      "metadata": {
        "id": "gw3d2D_o_lgR"
      }
    },
    {
      "cell_type": "code",
      "source": [
        "df_nodetime = df_features[[\"contiguosId\",1]]\n",
        "df_nodetime[1] = [df_nodetime[1][i] - 1 for i in range(len(df_nodetime))]\n",
        "df_nodetime=df_nodetime.rename(columns={\"contiguosId\":\"txId\",1: \"timestep\"})"
      ],
      "metadata": {
        "id": "RzFMv0cG_oVh"
      },
      "execution_count": null,
      "outputs": []
    },
    {
      "cell_type": "markdown",
      "source": [
        "Step4"
      ],
      "metadata": {
        "id": "ag4U5H8U_tyr"
      }
    },
    {
      "cell_type": "code",
      "source": [
        "df_edge[\"txId1\"] = [dict_contigous[df_edge.txId1[i]] for i in range(len(df_edge))]\n",
        "df_edge[\"txId2\"] = [dict_contigous[df_edge.txId2[i]] for i in range(len(df_edge))]\n",
        "dict_time = {df_nodetime['txId'][i]:df_nodetime['timestep'][i] for i in range(len(df_original_contigous))}\n",
        "df_edge[\"timestep\"] = [dict_time[i] for i in df_edge[\"txId1\"]]"
      ],
      "metadata": {
        "id": "a9ql7XqI_rbW"
      },
      "execution_count": null,
      "outputs": []
    },
    {
      "cell_type": "code",
      "source": [
        "df_edge['timestep'] = pd.to_numeric(df_edge['timestep'], downcast=\"float\")\n",
        "df_edge.head()"
      ],
      "metadata": {
        "id": "nlfYr3Er_vLY"
      },
      "execution_count": null,
      "outputs": []
    },
    {
      "cell_type": "markdown",
      "source": [
        "Save all dataframes to csv and clone the repository"
      ],
      "metadata": {
        "id": "GtQUzmRr_y9B"
      }
    },
    {
      "cell_type": "code",
      "source": [
        "!git clone https://github.com/rosieiiiii/EvolveGCN EvolveGCN\n",
        "!cd EvolveGCN\n",
        "\n",
        "!mkdir ./EvolveGCN/data/elliptic_temporal\n",
        "!mkdir ./EvolveGCN/data/elliptic_temporal/elliptic_bitcoin_dataset_cont\n",
        "!mkdir log"
      ],
      "metadata": {
        "id": "LGxA4kx__zZ8"
      },
      "execution_count": null,
      "outputs": []
    },
    {
      "cell_type": "code",
      "source": [
        "df_features1.to_csv('./EvolveGCN/data/elliptic_temporal/elliptic_bitcoin_dataset_cont/elliptic_txs_features.csv',index=False,header=None)\n",
        "df_original_contigous.to_csv('./EvolveGCN/data/elliptic_temporal/elliptic_bitcoin_dataset_cont/elliptic_txs_orig2contiguos.csv',index=False,header=True)\n",
        "df_class.to_csv('./EvolveGCN/data/elliptic_temporal/elliptic_bitcoin_dataset_cont/elliptic_txs_classes.csv',index=False,header=True)\n",
        "df_nodetime.to_csv('./EvolveGCN/data/elliptic_temporal/elliptic_bitcoin_dataset_cont/elliptic_txs_nodetime.csv',index=False,header=True)\n",
        "df_edge.to_csv('./EvolveGCN/data/elliptic_temporal/elliptic_bitcoin_dataset_cont/elliptic_txs_edgelist_timed.csv',index=False,header=True)"
      ],
      "metadata": {
        "id": "f4I72iC2_9U2"
      },
      "execution_count": null,
      "outputs": []
    },
    {
      "cell_type": "code",
      "source": [
        "!tar -czvf \"./EvolveGCN/data/elliptic_temporal/elliptic_bitcoin_dataset_cont.tar.gz\" \"./EvolveGCN/data/elliptic_temporal\" "
      ],
      "metadata": {
        "id": "d_NiBnXyCn7l"
      },
      "execution_count": null,
      "outputs": []
    },
    {
      "cell_type": "markdown",
      "source": [
        "Train EvolveGCN"
      ],
      "metadata": {
        "id": "rQ21yliCCfMh"
      }
    },
    {
      "cell_type": "code",
      "source": [
        "!python ./EvolveGCN/run_exp.py --config_file ./EvolveGCN/experiments/parameters_elliptic_egcn_h.yaml"
      ],
      "metadata": {
        "id": "NIeh-Gal__Z6"
      },
      "execution_count": null,
      "outputs": []
    }
  ]
}
